{
  "nbformat": 4,
  "nbformat_minor": 0,
  "metadata": {
    "colab": {
      "name": "Deteksi_Emosi.ipynb",
      "provenance": [],
      "collapsed_sections": []
    },
    "kernelspec": {
      "display_name": "Python 3",
      "name": "python3"
    },
    "language_info": {
      "name": "python"
    }
  },
  "cells": [
    {
      "cell_type": "code",
      "metadata": {
        "colab": {
          "base_uri": "https://localhost:8080/"
        },
        "id": "3QQulYtspMTt",
        "outputId": "32aede2b-708f-494e-ed7d-5f855736c217"
      },
      "source": [
        "!pip install -q tflite-model-maker"
      ],
      "execution_count": null,
      "outputs": [
        {
          "output_type": "stream",
          "name": "stdout",
          "text": [
            "\u001b[K     |████████████████████████████████| 591 kB 9.1 MB/s \n",
            "\u001b[K     |████████████████████████████████| 1.2 MB 38.2 MB/s \n",
            "\u001b[K     |████████████████████████████████| 103 kB 64.6 MB/s \n",
            "\u001b[K     |████████████████████████████████| 596 kB 53.9 MB/s \n",
            "\u001b[K     |████████████████████████████████| 1.1 MB 45.1 MB/s \n",
            "\u001b[K     |████████████████████████████████| 213 kB 30.3 MB/s \n",
            "\u001b[K     |████████████████████████████████| 64 kB 3.2 MB/s \n",
            "\u001b[K     |████████████████████████████████| 840 kB 51.5 MB/s \n",
            "\u001b[K     |████████████████████████████████| 120 kB 69.1 MB/s \n",
            "\u001b[K     |████████████████████████████████| 87 kB 8.3 MB/s \n",
            "\u001b[K     |████████████████████████████████| 1.1 MB 39.4 MB/s \n",
            "\u001b[K     |████████████████████████████████| 6.3 MB 28.3 MB/s \n",
            "\u001b[K     |████████████████████████████████| 352 kB 61.1 MB/s \n",
            "\u001b[K     |████████████████████████████████| 47.6 MB 2.0 MB/s \n",
            "\u001b[K     |████████████████████████████████| 99 kB 12.7 MB/s \n",
            "\u001b[K     |████████████████████████████████| 208 kB 65.1 MB/s \n",
            "\u001b[?25h  Building wheel for fire (setup.py) ... \u001b[?25l\u001b[?25hdone\n",
            "  Building wheel for py-cpuinfo (setup.py) ... \u001b[?25l\u001b[?25hdone\n"
          ]
        }
      ]
    },
    {
      "cell_type": "code",
      "metadata": {
        "id": "waHz74ttpk8T"
      },
      "source": [
        "from tflite_model_maker import image_classifier\n",
        "from tflite_model_maker.image_classifier import DataLoader\n",
        "\n",
        "import tensorflow as tf\n",
        "assert tf.__version__.startswith('2')\n",
        "\n",
        "import matplotlib.pyplot as plt\n",
        "import numpy as np"
      ],
      "execution_count": null,
      "outputs": []
    },
    {
      "cell_type": "code",
      "metadata": {
        "colab": {
          "base_uri": "https://localhost:8080/"
        },
        "id": "148BXu6sqa9B",
        "outputId": "b79debda-6a16-4be8-b46c-5dc3ceb70e22"
      },
      "source": [
        "data = DataLoader.from_folder('/content/drive/MyDrive/emosi') # masukan path dataset anda (gdrive) yang berisi 7 jenis raut emosi muka(senang, sedih, marah, kaget, flat, takut, jijik)\n",
        "train_data, test_data = data.split(0.9)"
      ],
      "execution_count": null,
      "outputs": [
        {
          "output_type": "stream",
          "name": "stdout",
          "text": [
            "INFO:tensorflow:Load image with size: 98, num_label: 7, labels: Flat, Jijik, Kaget, Marah, Sedih, Senang, Takut.\n"
          ]
        },
        {
          "output_type": "stream",
          "name": "stderr",
          "text": [
            "INFO:tensorflow:Load image with size: 98, num_label: 7, labels: Flat, Jijik, Kaget, Marah, Sedih, Senang, Takut.\n"
          ]
        }
      ]
    },
    {
      "cell_type": "code",
      "metadata": {
        "colab": {
          "base_uri": "https://localhost:8080/"
        },
        "id": "24ZzNc37rMNH",
        "outputId": "9a3036d2-98ba-4bb5-edb6-20ecdcfdef7f"
      },
      "source": [
        "fix = image_classifier.create(train_data, batch_size=10, epochs=100)"
      ],
      "execution_count": null,
      "outputs": [
        {
          "output_type": "stream",
          "name": "stdout",
          "text": [
            "INFO:tensorflow:Retraining the models...\n"
          ]
        },
        {
          "output_type": "stream",
          "name": "stderr",
          "text": [
            "INFO:tensorflow:Retraining the models...\n"
          ]
        },
        {
          "output_type": "stream",
          "name": "stdout",
          "text": [
            "Model: \"sequential_1\"\n",
            "_________________________________________________________________\n",
            " Layer (type)                Output Shape              Param #   \n",
            "=================================================================\n",
            " hub_keras_layer_v1v2_1 (Hub  (None, 1280)             3413024   \n",
            " KerasLayerV1V2)                                                 \n",
            "                                                                 \n",
            " dropout_1 (Dropout)         (None, 1280)              0         \n",
            "                                                                 \n",
            " dense_1 (Dense)             (None, 7)                 8967      \n",
            "                                                                 \n",
            "=================================================================\n",
            "Total params: 3,421,991\n",
            "Trainable params: 8,967\n",
            "Non-trainable params: 3,413,024\n",
            "_________________________________________________________________\n",
            "None\n",
            "Epoch 1/100\n"
          ]
        },
        {
          "output_type": "stream",
          "name": "stderr",
          "text": [
            "/usr/local/lib/python3.7/dist-packages/keras/optimizer_v2/gradient_descent.py:102: UserWarning: The `lr` argument is deprecated, use `learning_rate` instead.\n",
            "  super(SGD, self).__init__(name, **kwargs)\n"
          ]
        },
        {
          "output_type": "stream",
          "name": "stdout",
          "text": [
            "4/4 [==============================] - 26s 6s/step - loss: 2.0767 - accuracy: 0.1500\n",
            "Epoch 2/100\n",
            "4/4 [==============================] - 15s 2s/step - loss: 1.8308 - accuracy: 0.2250\n",
            "Epoch 3/100\n",
            "4/4 [==============================] - 9s 2s/step - loss: 1.7972 - accuracy: 0.2500\n",
            "Epoch 4/100\n",
            "4/4 [==============================] - 9s 2s/step - loss: 1.6913 - accuracy: 0.3250\n",
            "Epoch 5/100\n",
            "4/4 [==============================] - 9s 2s/step - loss: 1.5075 - accuracy: 0.5250\n",
            "Epoch 6/100\n",
            "4/4 [==============================] - 8s 2s/step - loss: 1.6107 - accuracy: 0.4250\n",
            "Epoch 7/100\n",
            "4/4 [==============================] - 8s 2s/step - loss: 1.3896 - accuracy: 0.6250\n",
            "Epoch 8/100\n",
            "4/4 [==============================] - 9s 2s/step - loss: 1.3629 - accuracy: 0.6250\n",
            "Epoch 9/100\n",
            "4/4 [==============================] - 8s 2s/step - loss: 1.3221 - accuracy: 0.6000\n",
            "Epoch 10/100\n",
            "4/4 [==============================] - 9s 2s/step - loss: 1.0951 - accuracy: 0.8750\n",
            "Epoch 11/100\n",
            "4/4 [==============================] - 8s 2s/step - loss: 1.1478 - accuracy: 0.8250\n",
            "Epoch 12/100\n",
            "4/4 [==============================] - 8s 2s/step - loss: 1.1254 - accuracy: 0.7250\n",
            "Epoch 13/100\n",
            "4/4 [==============================] - 9s 2s/step - loss: 1.0583 - accuracy: 0.7750\n",
            "Epoch 14/100\n",
            "4/4 [==============================] - 9s 2s/step - loss: 1.0439 - accuracy: 0.7500\n",
            "Epoch 15/100\n",
            "4/4 [==============================] - 8s 2s/step - loss: 1.0111 - accuracy: 0.8500\n",
            "Epoch 16/100\n",
            "4/4 [==============================] - 9s 2s/step - loss: 0.9938 - accuracy: 0.8250\n",
            "Epoch 17/100\n",
            "4/4 [==============================] - 7s 2s/step - loss: 1.0051 - accuracy: 0.9000\n",
            "Epoch 18/100\n",
            "4/4 [==============================] - 9s 2s/step - loss: 0.8534 - accuracy: 0.8750\n",
            "Epoch 19/100\n",
            "4/4 [==============================] - 9s 2s/step - loss: 0.8961 - accuracy: 0.8500\n",
            "Epoch 20/100\n",
            "4/4 [==============================] - 9s 2s/step - loss: 0.9276 - accuracy: 0.9000\n",
            "Epoch 21/100\n",
            "4/4 [==============================] - 9s 2s/step - loss: 0.8095 - accuracy: 0.9250\n",
            "Epoch 22/100\n",
            "4/4 [==============================] - 8s 2s/step - loss: 0.8673 - accuracy: 0.9500\n",
            "Epoch 23/100\n",
            "4/4 [==============================] - 9s 2s/step - loss: 0.8376 - accuracy: 0.9000\n",
            "Epoch 24/100\n",
            "4/4 [==============================] - 9s 2s/step - loss: 0.8316 - accuracy: 0.9250\n",
            "Epoch 25/100\n",
            "4/4 [==============================] - 9s 2s/step - loss: 0.8509 - accuracy: 0.8750\n",
            "Epoch 26/100\n",
            "4/4 [==============================] - 9s 2s/step - loss: 0.7360 - accuracy: 1.0000\n",
            "Epoch 27/100\n",
            "4/4 [==============================] - 9s 2s/step - loss: 0.8097 - accuracy: 0.9750\n",
            "Epoch 28/100\n",
            "4/4 [==============================] - 8s 2s/step - loss: 0.7903 - accuracy: 0.9500\n",
            "Epoch 29/100\n",
            "4/4 [==============================] - 9s 2s/step - loss: 0.7777 - accuracy: 0.9750\n",
            "Epoch 30/100\n",
            "4/4 [==============================] - 9s 2s/step - loss: 0.7607 - accuracy: 0.9500\n",
            "Epoch 31/100\n",
            "4/4 [==============================] - 8s 2s/step - loss: 0.7726 - accuracy: 0.9500\n",
            "Epoch 32/100\n",
            "4/4 [==============================] - 9s 2s/step - loss: 0.7879 - accuracy: 0.9750\n",
            "Epoch 33/100\n",
            "4/4 [==============================] - 8s 2s/step - loss: 0.7980 - accuracy: 0.9000\n",
            "Epoch 34/100\n",
            "4/4 [==============================] - 8s 2s/step - loss: 0.7439 - accuracy: 0.9500\n",
            "Epoch 35/100\n",
            "4/4 [==============================] - 10s 2s/step - loss: 0.7390 - accuracy: 0.9500\n",
            "Epoch 36/100\n",
            "4/4 [==============================] - 8s 2s/step - loss: 0.7078 - accuracy: 0.9250\n",
            "Epoch 37/100\n",
            "4/4 [==============================] - 9s 2s/step - loss: 0.6738 - accuracy: 0.9750\n",
            "Epoch 38/100\n",
            "4/4 [==============================] - 9s 2s/step - loss: 0.7380 - accuracy: 0.9250\n",
            "Epoch 39/100\n",
            "4/4 [==============================] - 7s 2s/step - loss: 0.7380 - accuracy: 0.9500\n",
            "Epoch 40/100\n",
            "4/4 [==============================] - 9s 2s/step - loss: 0.6923 - accuracy: 0.9750\n",
            "Epoch 41/100\n",
            "4/4 [==============================] - 9s 2s/step - loss: 0.7146 - accuracy: 0.9500\n",
            "Epoch 42/100\n",
            "4/4 [==============================] - 9s 2s/step - loss: 0.6715 - accuracy: 0.9750\n",
            "Epoch 43/100\n",
            "4/4 [==============================] - 8s 2s/step - loss: 0.6857 - accuracy: 0.9750\n",
            "Epoch 44/100\n",
            "4/4 [==============================] - 8s 2s/step - loss: 0.7006 - accuracy: 1.0000\n",
            "Epoch 45/100\n",
            "4/4 [==============================] - 9s 2s/step - loss: 0.6979 - accuracy: 1.0000\n",
            "Epoch 46/100\n",
            "4/4 [==============================] - 9s 2s/step - loss: 0.6494 - accuracy: 1.0000\n",
            "Epoch 47/100\n",
            "4/4 [==============================] - 9s 2s/step - loss: 0.6657 - accuracy: 0.9500\n",
            "Epoch 48/100\n",
            "4/4 [==============================] - 9s 2s/step - loss: 0.6271 - accuracy: 1.0000\n",
            "Epoch 49/100\n",
            "4/4 [==============================] - 8s 2s/step - loss: 0.6509 - accuracy: 0.9750\n",
            "Epoch 50/100\n",
            "4/4 [==============================] - 8s 2s/step - loss: 0.6766 - accuracy: 0.9750\n",
            "Epoch 51/100\n",
            "4/4 [==============================] - 9s 2s/step - loss: 0.6353 - accuracy: 0.9750\n",
            "Epoch 52/100\n",
            "4/4 [==============================] - 9s 2s/step - loss: 0.6737 - accuracy: 0.9500\n",
            "Epoch 53/100\n",
            "4/4 [==============================] - 9s 2s/step - loss: 0.5991 - accuracy: 1.0000\n",
            "Epoch 54/100\n",
            "4/4 [==============================] - 8s 2s/step - loss: 0.6310 - accuracy: 1.0000\n",
            "Epoch 55/100\n",
            "4/4 [==============================] - 8s 2s/step - loss: 0.7131 - accuracy: 0.9250\n",
            "Epoch 56/100\n",
            "4/4 [==============================] - 9s 2s/step - loss: 0.6326 - accuracy: 0.9750\n",
            "Epoch 57/100\n",
            "4/4 [==============================] - 9s 2s/step - loss: 0.6901 - accuracy: 0.9250\n",
            "Epoch 58/100\n",
            "4/4 [==============================] - 8s 2s/step - loss: 0.6366 - accuracy: 0.9750\n",
            "Epoch 59/100\n",
            "4/4 [==============================] - 9s 2s/step - loss: 0.6157 - accuracy: 1.0000\n",
            "Epoch 60/100\n",
            "4/4 [==============================] - 8s 2s/step - loss: 0.6464 - accuracy: 0.9750\n",
            "Epoch 61/100\n",
            "4/4 [==============================] - 8s 2s/step - loss: 0.6232 - accuracy: 0.9750\n",
            "Epoch 62/100\n",
            "4/4 [==============================] - 9s 2s/step - loss: 0.5899 - accuracy: 0.9750\n",
            "Epoch 63/100\n",
            "4/4 [==============================] - 9s 2s/step - loss: 0.6022 - accuracy: 0.9750\n",
            "Epoch 64/100\n",
            "4/4 [==============================] - 8s 2s/step - loss: 0.6261 - accuracy: 1.0000\n",
            "Epoch 65/100\n",
            "4/4 [==============================] - 9s 2s/step - loss: 0.6347 - accuracy: 0.9500\n",
            "Epoch 66/100\n",
            "4/4 [==============================] - 8s 2s/step - loss: 0.6522 - accuracy: 1.0000\n",
            "Epoch 67/100\n",
            "4/4 [==============================] - 9s 2s/step - loss: 0.6137 - accuracy: 1.0000\n",
            "Epoch 68/100\n",
            "4/4 [==============================] - 9s 2s/step - loss: 0.6230 - accuracy: 0.9500\n",
            "Epoch 69/100\n",
            "4/4 [==============================] - 9s 2s/step - loss: 0.6143 - accuracy: 0.9750\n",
            "Epoch 70/100\n",
            "4/4 [==============================] - 9s 2s/step - loss: 0.6001 - accuracy: 0.9750\n",
            "Epoch 71/100\n",
            "4/4 [==============================] - 8s 2s/step - loss: 0.6260 - accuracy: 0.9750\n",
            "Epoch 72/100\n",
            "4/4 [==============================] - 8s 2s/step - loss: 0.6410 - accuracy: 0.9500\n",
            "Epoch 73/100\n",
            "4/4 [==============================] - 9s 2s/step - loss: 0.5832 - accuracy: 1.0000\n",
            "Epoch 74/100\n",
            "4/4 [==============================] - 9s 2s/step - loss: 0.6184 - accuracy: 1.0000\n",
            "Epoch 75/100\n",
            "4/4 [==============================] - 9s 2s/step - loss: 0.5637 - accuracy: 1.0000\n",
            "Epoch 76/100\n",
            "4/4 [==============================] - 9s 2s/step - loss: 0.6296 - accuracy: 1.0000\n",
            "Epoch 77/100\n",
            "4/4 [==============================] - 8s 2s/step - loss: 0.6024 - accuracy: 1.0000\n",
            "Epoch 78/100\n",
            "4/4 [==============================] - 9s 2s/step - loss: 0.6208 - accuracy: 0.9750\n",
            "Epoch 79/100\n",
            "4/4 [==============================] - 9s 2s/step - loss: 0.6127 - accuracy: 0.9750\n",
            "Epoch 80/100\n",
            "4/4 [==============================] - 8s 2s/step - loss: 0.5778 - accuracy: 0.9750\n",
            "Epoch 81/100\n",
            "4/4 [==============================] - 8s 2s/step - loss: 0.5750 - accuracy: 1.0000\n",
            "Epoch 82/100\n",
            "4/4 [==============================] - 9s 2s/step - loss: 0.5980 - accuracy: 1.0000\n",
            "Epoch 83/100\n",
            "4/4 [==============================] - 8s 2s/step - loss: 0.5860 - accuracy: 1.0000\n",
            "Epoch 84/100\n",
            "4/4 [==============================] - 10s 2s/step - loss: 0.5765 - accuracy: 0.9750\n",
            "Epoch 85/100\n",
            "4/4 [==============================] - 8s 2s/step - loss: 0.5697 - accuracy: 1.0000\n",
            "Epoch 86/100\n",
            "4/4 [==============================] - 9s 2s/step - loss: 0.5599 - accuracy: 0.9750\n",
            "Epoch 87/100\n",
            "4/4 [==============================] - 9s 2s/step - loss: 0.6317 - accuracy: 0.9750\n",
            "Epoch 88/100\n",
            "4/4 [==============================] - 7s 2s/step - loss: 0.5726 - accuracy: 1.0000\n",
            "Epoch 89/100\n",
            "4/4 [==============================] - 9s 2s/step - loss: 0.5757 - accuracy: 0.9750\n",
            "Epoch 90/100\n",
            "4/4 [==============================] - 9s 2s/step - loss: 0.5956 - accuracy: 0.9750\n",
            "Epoch 91/100\n",
            "4/4 [==============================] - 9s 2s/step - loss: 0.5639 - accuracy: 1.0000\n",
            "Epoch 92/100\n",
            "4/4 [==============================] - 8s 2s/step - loss: 0.5969 - accuracy: 0.9750\n",
            "Epoch 93/100\n",
            "4/4 [==============================] - 8s 2s/step - loss: 0.5949 - accuracy: 1.0000\n",
            "Epoch 94/100\n",
            "4/4 [==============================] - 9s 2s/step - loss: 0.5761 - accuracy: 1.0000\n",
            "Epoch 95/100\n",
            "4/4 [==============================] - 9s 2s/step - loss: 0.5566 - accuracy: 1.0000\n",
            "Epoch 96/100\n",
            "4/4 [==============================] - 9s 2s/step - loss: 0.5588 - accuracy: 1.0000\n",
            "Epoch 97/100\n",
            "4/4 [==============================] - 9s 2s/step - loss: 0.5411 - accuracy: 1.0000\n",
            "Epoch 98/100\n",
            "4/4 [==============================] - 8s 2s/step - loss: 0.5867 - accuracy: 1.0000\n",
            "Epoch 99/100\n",
            "4/4 [==============================] - 8s 2s/step - loss: 0.5792 - accuracy: 1.0000\n",
            "Epoch 100/100\n",
            "4/4 [==============================] - 9s 2s/step - loss: 0.5512 - accuracy: 0.9750\n"
          ]
        }
      ]
    },
    {
      "cell_type": "code",
      "metadata": {
        "colab": {
          "base_uri": "https://localhost:8080/"
        },
        "id": "MFAE4AlPuATy",
        "outputId": "55d8cc8f-05ec-4f46-a782-d8a0c13539bf"
      },
      "source": [
        "loss, accuracy = fix.evaluate(test_data)"
      ],
      "execution_count": null,
      "outputs": [
        {
          "output_type": "stream",
          "name": "stdout",
          "text": [
            "1/1 [==============================] - 6s 6s/step - loss: 0.8728 - accuracy: 0.9000\n"
          ]
        }
      ]
    },
    {
      "cell_type": "code",
      "metadata": {
        "colab": {
          "base_uri": "https://localhost:8080/"
        },
        "id": "yC1aP6CVuImi",
        "outputId": "01ef1d05-52ca-4e9b-de23-5a93c37bf32b"
      },
      "source": [
        "fix.export(export_dir='.')"
      ],
      "execution_count": null,
      "outputs": [
        {
          "output_type": "stream",
          "name": "stdout",
          "text": [
            "INFO:tensorflow:Assets written to: /tmp/tmpd3tryz8i/assets\n"
          ]
        },
        {
          "output_type": "stream",
          "name": "stderr",
          "text": [
            "INFO:tensorflow:Assets written to: /tmp/tmpd3tryz8i/assets\n"
          ]
        },
        {
          "output_type": "stream",
          "name": "stdout",
          "text": [
            "INFO:tensorflow:Label file is inside the TFLite model with metadata.\n"
          ]
        },
        {
          "output_type": "stream",
          "name": "stderr",
          "text": [
            "INFO:tensorflow:Label file is inside the TFLite model with metadata.\n"
          ]
        },
        {
          "output_type": "stream",
          "name": "stdout",
          "text": [
            "INFO:tensorflow:Saving labels in /tmp/tmp9o5hjbfh/labels.txt\n"
          ]
        },
        {
          "output_type": "stream",
          "name": "stderr",
          "text": [
            "INFO:tensorflow:Saving labels in /tmp/tmp9o5hjbfh/labels.txt\n"
          ]
        },
        {
          "output_type": "stream",
          "name": "stdout",
          "text": [
            "INFO:tensorflow:TensorFlow Lite model exported successfully: ./model.tflite\n"
          ]
        },
        {
          "output_type": "stream",
          "name": "stderr",
          "text": [
            "INFO:tensorflow:TensorFlow Lite model exported successfully: ./model.tflite\n"
          ]
        }
      ]
    },
    {
      "cell_type": "code",
      "metadata": {
        "colab": {
          "base_uri": "https://localhost:8080/",
          "height": 17
        },
        "id": "7T3cxoKJuX1N",
        "outputId": "892f8b83-ec59-4317-ffa2-0f9b9d49c4fe"
      },
      "source": [
        "from google.colab import files\n",
        "with open('emosi_detection.tflite', 'w') as f:\n",
        "  f.write('some content')\n",
        "files.download('emosi_detection.tflite')"
      ],
      "execution_count": null,
      "outputs": [
        {
          "output_type": "display_data",
          "data": {
            "application/javascript": [
              "\n",
              "    async function download(id, filename, size) {\n",
              "      if (!google.colab.kernel.accessAllowed) {\n",
              "        return;\n",
              "      }\n",
              "      const div = document.createElement('div');\n",
              "      const label = document.createElement('label');\n",
              "      label.textContent = `Downloading \"${filename}\": `;\n",
              "      div.appendChild(label);\n",
              "      const progress = document.createElement('progress');\n",
              "      progress.max = size;\n",
              "      div.appendChild(progress);\n",
              "      document.body.appendChild(div);\n",
              "\n",
              "      const buffers = [];\n",
              "      let downloaded = 0;\n",
              "\n",
              "      const channel = await google.colab.kernel.comms.open(id);\n",
              "      // Send a message to notify the kernel that we're ready.\n",
              "      channel.send({})\n",
              "\n",
              "      for await (const message of channel.messages) {\n",
              "        // Send a message to notify the kernel that we're ready.\n",
              "        channel.send({})\n",
              "        if (message.buffers) {\n",
              "          for (const buffer of message.buffers) {\n",
              "            buffers.push(buffer);\n",
              "            downloaded += buffer.byteLength;\n",
              "            progress.value = downloaded;\n",
              "          }\n",
              "        }\n",
              "      }\n",
              "      const blob = new Blob(buffers, {type: 'application/binary'});\n",
              "      const a = document.createElement('a');\n",
              "      a.href = window.URL.createObjectURL(blob);\n",
              "      a.download = filename;\n",
              "      div.appendChild(a);\n",
              "      a.click();\n",
              "      div.remove();\n",
              "    }\n",
              "  "
            ],
            "text/plain": [
              "<IPython.core.display.Javascript object>"
            ]
          },
          "metadata": {}
        },
        {
          "output_type": "display_data",
          "data": {
            "application/javascript": [
              "download(\"download_38ce092a-0872-42df-a6af-92b747e677f4\", \"emosi2.tflite\", 12)"
            ],
            "text/plain": [
              "<IPython.core.display.Javascript object>"
            ]
          },
          "metadata": {}
        }
      ]
    }
  ]
}